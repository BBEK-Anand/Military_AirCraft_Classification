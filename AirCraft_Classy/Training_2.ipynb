{
 "cells": [
  {
   "cell_type": "code",
   "execution_count": 1,
   "id": "02ead062-1412-49ea-a16c-83e4d8a930f9",
   "metadata": {},
   "outputs": [],
   "source": [
    "from PyTorchLabFlow import train_new,get_ppls,re_train"
   ]
  },
  {
   "cell_type": "code",
   "execution_count": 2,
   "id": "903e93bc-70b8-4745-9adf-6c9fb4700605",
   "metadata": {},
   "outputs": [
    {
     "data": {
      "text/plain": [
       "['exp01',\n",
       " 'exp02',\n",
       " 'exp03',\n",
       " 'exp04',\n",
       " 'exp05',\n",
       " 'exp06',\n",
       " 'exp07',\n",
       " 'exp08',\n",
       " 'exp09',\n",
       " 'exp10',\n",
       " 'exp11',\n",
       " 'exp12']"
      ]
     },
     "execution_count": 2,
     "metadata": {},
     "output_type": "execute_result"
    }
   ],
   "source": [
    "get_ppls()"
   ]
  },
  {
   "cell_type": "code",
   "execution_count": 3,
   "id": "38dc547e-48e6-4477-b6ce-1662052c82be",
   "metadata": {},
   "outputs": [
    {
     "name": "stdout",
     "output_type": "stream",
     "text": [
      "Data loaders are successfully created\n"
     ]
    },
    {
     "name": "stderr",
     "output_type": "stream",
     "text": [
      "D:\\AnnA\\envs\\diat\\Lib\\site-packages\\PyTorchLabFlow\\pipeline.py:246: FutureWarning: You are using `torch.load` with `weights_only=False` (the current default value), which uses the default pickle module implicitly. It is possible to construct malicious pickle data which will execute arbitrary code during unpickling (See https://github.com/pytorch/pytorch/blob/main/SECURITY.md#untrusted-models for more details). In a future release, the default value for `weights_only` will be flipped to `True`. This limits the functions that could be executed during unpickling. Arbitrary objects will no longer be allowed to be loaded via this mode unless they are explicitly allowlisted by the user via `torch.serialization.add_safe_globals`. We recommend you start setting `weights_only=True` for any use case where you don't have full control of the loaded file. Please open an issue on GitHub for any issues related to this experimental feature.\n",
      "  self.model.load_state_dict(torch.load(self.weights_path))\n",
      "Epoch 11/30: 100%|█| 797/797 [15:45<00:00,  1.19s/it, accuracy=0.982, loss=0.08\n",
      "                                                                               \r"
     ]
    },
    {
     "name": "stdout",
     "output_type": "stream",
     "text": [
      "Epoch 11, Train Loss: 0.0863, Train Accuracy: 0.98, Val Loss: 0.8214, Val Accuracy: 0.80\n"
     ]
    },
    {
     "name": "stderr",
     "output_type": "stream",
     "text": [
      "Epoch 12/30: 100%|█| 797/797 [14:20<00:00,  1.08s/it, accuracy=0.992, loss=0.03\n",
      "                                                                               \r"
     ]
    },
    {
     "name": "stdout",
     "output_type": "stream",
     "text": [
      "Epoch 12, Train Loss: 0.0386, Train Accuracy: 0.99, Val Loss: 0.8294, Val Accuracy: 0.79\n"
     ]
    },
    {
     "name": "stderr",
     "output_type": "stream",
     "text": [
      "Epoch 13/30: 100%|█| 797/797 [14:41<00:00,  1.11s/it, accuracy=0.995, loss=0.02\n",
      "                                                                               \r"
     ]
    },
    {
     "name": "stdout",
     "output_type": "stream",
     "text": [
      "Epoch 13, Train Loss: 0.0261, Train Accuracy: 1.00, Val Loss: 0.8794, Val Accuracy: 0.80\n"
     ]
    },
    {
     "name": "stderr",
     "output_type": "stream",
     "text": [
      "Epoch 14/30: 100%|█| 797/797 [14:46<00:00,  1.11s/it, accuracy=0.997, loss=0.01\n",
      "                                                                               \r"
     ]
    },
    {
     "name": "stdout",
     "output_type": "stream",
     "text": [
      "Epoch 14, Train Loss: 0.0179, Train Accuracy: 1.00, Val Loss: 0.8748, Val Accuracy: 0.80\n"
     ]
    },
    {
     "name": "stderr",
     "output_type": "stream",
     "text": [
      "Epoch 15/30: 100%|█| 797/797 [14:47<00:00,  1.11s/it, accuracy=0.997, loss=0.01\n",
      "                                                                               \r"
     ]
    },
    {
     "name": "stdout",
     "output_type": "stream",
     "text": [
      "Epoch 15, Train Loss: 0.0159, Train Accuracy: 1.00, Val Loss: 0.9037, Val Accuracy: 0.80\n"
     ]
    },
    {
     "name": "stderr",
     "output_type": "stream",
     "text": [
      "Epoch 16/30: 100%|█| 797/797 [09:21<00:00,  1.42it/s, accuracy=0.997, loss=0.01\n",
      "                                                                               \r"
     ]
    },
    {
     "name": "stdout",
     "output_type": "stream",
     "text": [
      "Epoch 16, Train Loss: 0.0152, Train Accuracy: 1.00, Val Loss: 0.8540, Val Accuracy: 0.80\n"
     ]
    },
    {
     "name": "stderr",
     "output_type": "stream",
     "text": [
      "Epoch 17/30: 100%|█| 797/797 [06:21<00:00,  2.09it/s, accuracy=0.997, loss=0.01\n",
      "                                                                               "
     ]
    },
    {
     "name": "stdout",
     "output_type": "stream",
     "text": [
      "Epoch 17, Train Loss: 0.0131, Train Accuracy: 1.00, Val Loss: 0.8775, Val Accuracy: 0.80\n",
      "Early stopping after 17 epochs due to no improvement in validation loss.\n",
      "Finished Training\n"
     ]
    },
    {
     "name": "stderr",
     "output_type": "stream",
     "text": [
      "\r"
     ]
    }
   ],
   "source": [
    "# P = train_new(name=\"exp12\",\n",
    "#           dataset_loc=\"DS_01\",\n",
    "#           model_loc=\"ResN50_40\",optimizer_loc=\"Libs.optimizers.OptAdamax_sc\",\n",
    "#           prepare=True\n",
    "#          )\n",
    "# P.train(num_epochs=20,patience=6)\n",
    "P = re_train(ppl='exp12',prepare=True)\n",
    "P.train(num_epochs=20,patience=6)"
   ]
  },
  {
   "cell_type": "code",
   "execution_count": null,
   "id": "80eabe5e-e735-4b42-9b7a-2e208813c581",
   "metadata": {},
   "outputs": [],
   "source": []
  }
 ],
 "metadata": {
  "kernelspec": {
   "display_name": "Python 3 (ipykernel)",
   "language": "python",
   "name": "python3"
  },
  "language_info": {
   "codemirror_mode": {
    "name": "ipython",
    "version": 3
   },
   "file_extension": ".py",
   "mimetype": "text/x-python",
   "name": "python",
   "nbconvert_exporter": "python",
   "pygments_lexer": "ipython3",
   "version": "3.12.7"
  }
 },
 "nbformat": 4,
 "nbformat_minor": 5
}
