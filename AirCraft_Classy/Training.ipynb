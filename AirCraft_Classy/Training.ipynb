{
 "cells": [
  {
   "cell_type": "code",
   "execution_count": 1,
   "id": "970a908e-513b-452e-a440-fe646fe0bfa0",
   "metadata": {},
   "outputs": [],
   "source": [
    "from PyTorchLabFlow import train_new,get_ppls,re_train"
   ]
  },
  {
   "cell_type": "code",
   "execution_count": 2,
   "id": "3bd14df4-77a5-4e44-b126-6f832c065888",
   "metadata": {
    "scrolled": true
   },
   "outputs": [
    {
     "data": {
      "text/plain": [
       "['exp01',\n",
       " 'exp02',\n",
       " 'exp03',\n",
       " 'exp04',\n",
       " 'exp05',\n",
       " 'exp06',\n",
       " 'exp07',\n",
       " 'exp08',\n",
       " 'exp09',\n",
       " 'exp10']"
      ]
     },
     "execution_count": 2,
     "metadata": {},
     "output_type": "execute_result"
    }
   ],
   "source": [
    "get_ppls()"
   ]
  },
  {
   "cell_type": "code",
   "execution_count": 3,
   "id": "2f0dbe4a-bd74-46a3-b727-063960c5a7d0",
   "metadata": {},
   "outputs": [
    {
     "name": "stdout",
     "output_type": "stream",
     "text": [
      "Configuration file is saved at internal/Configs/exp11.json\n",
      "History will be saved at internal/Histories/exp11.csv\n",
      "Weights will be saved at internal/Weights/exp11.pth\n",
      "Data loaders are successfully created\n"
     ]
    },
    {
     "name": "stderr",
     "output_type": "stream",
     "text": [
      "Epoch 1/20: 100%|█| 797/797 [10:01<00:00,  1.32it/s, accuracy=0.483, loss=2.26]\n",
      "                                                                               \r"
     ]
    },
    {
     "name": "stdout",
     "output_type": "stream",
     "text": [
      "Epoch 1, Train Loss: 2.2632, Train Accuracy: 0.48, Val Loss: 1.3616, Val Accuracy: 0.68\n",
      "Best Model Weights Updated: Epoch 1 - Val Loss: 1.3616192871658364\n"
     ]
    },
    {
     "name": "stderr",
     "output_type": "stream",
     "text": [
      "Epoch 2/20: 100%|█| 797/797 [06:22<00:00,  2.08it/s, accuracy=0.822, loss=0.776\n",
      "                                                                               \r"
     ]
    },
    {
     "name": "stdout",
     "output_type": "stream",
     "text": [
      "Epoch 2, Train Loss: 0.7760, Train Accuracy: 0.82, Val Loss: 0.8963, Val Accuracy: 0.77\n",
      "Best Model Weights Updated: Epoch 2 - Val Loss: 0.8963272555300327\n"
     ]
    },
    {
     "name": "stderr",
     "output_type": "stream",
     "text": [
      "Epoch 3/20: 100%|█| 797/797 [08:56<00:00,  1.49it/s, accuracy=0.942, loss=0.275\n",
      "                                                                               \r"
     ]
    },
    {
     "name": "stdout",
     "output_type": "stream",
     "text": [
      "Epoch 3, Train Loss: 0.2753, Train Accuracy: 0.94, Val Loss: 0.8117, Val Accuracy: 0.79\n",
      "Best Model Weights Updated: Epoch 3 - Val Loss: 0.8116937796793767\n"
     ]
    },
    {
     "name": "stderr",
     "output_type": "stream",
     "text": [
      "Epoch 4/20: 100%|█| 797/797 [08:48<00:00,  1.51it/s, accuracy=0.98, loss=0.108]\n",
      "                                                                               \r"
     ]
    },
    {
     "name": "stdout",
     "output_type": "stream",
     "text": [
      "Epoch 4, Train Loss: 0.1076, Train Accuracy: 0.98, Val Loss: 0.7897, Val Accuracy: 0.80\n",
      "Best Model Weights Updated: Epoch 4 - Val Loss: 0.7896997970737406\n"
     ]
    },
    {
     "name": "stderr",
     "output_type": "stream",
     "text": [
      "Epoch 5/20: 100%|█| 797/797 [12:50<00:00,  1.03it/s, accuracy=0.992, loss=0.050\n",
      "                                                                               \r"
     ]
    },
    {
     "name": "stdout",
     "output_type": "stream",
     "text": [
      "Epoch 5, Train Loss: 0.0508, Train Accuracy: 0.99, Val Loss: 0.8230, Val Accuracy: 0.79\n"
     ]
    },
    {
     "name": "stderr",
     "output_type": "stream",
     "text": [
      "Epoch 6/20: 100%|█| 797/797 [11:55<00:00,  1.11it/s, accuracy=0.994, loss=0.032\n",
      "                                                                               \r"
     ]
    },
    {
     "name": "stdout",
     "output_type": "stream",
     "text": [
      "Epoch 6, Train Loss: 0.0329, Train Accuracy: 0.99, Val Loss: 0.8631, Val Accuracy: 0.79\n"
     ]
    },
    {
     "name": "stderr",
     "output_type": "stream",
     "text": [
      "Epoch 7/20: 100%|█| 797/797 [11:37<00:00,  1.14it/s, accuracy=0.995, loss=0.024\n",
      "                                                                               \r"
     ]
    },
    {
     "name": "stdout",
     "output_type": "stream",
     "text": [
      "Epoch 7, Train Loss: 0.0245, Train Accuracy: 1.00, Val Loss: 0.8799, Val Accuracy: 0.79\n"
     ]
    },
    {
     "name": "stderr",
     "output_type": "stream",
     "text": [
      "Epoch 8/20: 100%|█| 797/797 [10:27<00:00,  1.27it/s, accuracy=0.997, loss=0.018\n",
      "                                                                               \r"
     ]
    },
    {
     "name": "stdout",
     "output_type": "stream",
     "text": [
      "Epoch 8, Train Loss: 0.0181, Train Accuracy: 1.00, Val Loss: 0.8705, Val Accuracy: 0.80\n"
     ]
    },
    {
     "name": "stderr",
     "output_type": "stream",
     "text": [
      "Epoch 9/20: 100%|█| 797/797 [13:14<00:00,  1.00it/s, accuracy=0.997, loss=0.016\n",
      "                                                                               \r"
     ]
    },
    {
     "name": "stdout",
     "output_type": "stream",
     "text": [
      "Epoch 9, Train Loss: 0.0168, Train Accuracy: 1.00, Val Loss: 0.8616, Val Accuracy: 0.80\n"
     ]
    },
    {
     "name": "stderr",
     "output_type": "stream",
     "text": [
      "Epoch 10/20: 100%|█| 797/797 [16:44<00:00,  1.26s/it, accuracy=0.997, loss=0.01\n",
      "                                                                               "
     ]
    },
    {
     "name": "stdout",
     "output_type": "stream",
     "text": [
      "Epoch 10, Train Loss: 0.0158, Train Accuracy: 1.00, Val Loss: 0.9157, Val Accuracy: 0.78\n",
      "Early stopping after 10 epochs due to no improvement in validation loss.\n",
      "Finished Training\n"
     ]
    },
    {
     "name": "stderr",
     "output_type": "stream",
     "text": [
      "\r"
     ]
    }
   ],
   "source": [
    "P = train_new(name=\"exp12\",\n",
    "          dataset_loc=\"DS_01\",\n",
    "          model_loc=\"ResN50_40\",\n",
    "          optimizer_loc= \"Libs.optimizers.OptAdamax_sc\",\n",
    "          prepare=True\n",
    "         )\n",
    "P.train(num_epochs=20,patience=6)\n",
    "# P = re_train(ppl='exp09',prepare=True)\n",
    "# P.train(num_epochs=10,patience=6)"
   ]
  },
  {
   "cell_type": "code",
   "execution_count": null,
   "id": "86c910c7-5542-47ea-9172-6925a1e406e6",
   "metadata": {},
   "outputs": [],
   "source": []
  }
 ],
 "metadata": {
  "kernelspec": {
   "display_name": "Python 3 (ipykernel)",
   "language": "python",
   "name": "python3"
  },
  "language_info": {
   "codemirror_mode": {
    "name": "ipython",
    "version": 3
   },
   "file_extension": ".py",
   "mimetype": "text/x-python",
   "name": "python",
   "nbconvert_exporter": "python",
   "pygments_lexer": "ipython3",
   "version": "3.12.7"
  }
 },
 "nbformat": 4,
 "nbformat_minor": 5
}
