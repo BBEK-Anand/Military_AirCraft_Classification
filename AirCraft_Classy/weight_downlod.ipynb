{
 "cells": [
  {
   "cell_type": "code",
   "execution_count": 1,
   "id": "ab1e73bf-8629-4a56-ad7d-194a0dda66de",
   "metadata": {},
   "outputs": [],
   "source": [
    "import torch\n",
    "import torchvision.models as models"
   ]
  },
  {
   "cell_type": "code",
   "execution_count": null,
   "id": "37441fad-200d-42e9-8d7e-32ec0643812c",
   "metadata": {},
   "outputs": [],
   "source": []
  },
  {
   "cell_type": "code",
   "execution_count": null,
   "id": "e74fc6c6-0396-4793-85ad-79cb522df88d",
   "metadata": {},
   "outputs": [],
   "source": []
  },
  {
   "cell_type": "code",
   "execution_count": 2,
   "id": "f00193e0-60a7-40da-bbc9-d7037c8358dd",
   "metadata": {},
   "outputs": [
    {
     "name": "stderr",
     "output_type": "stream",
     "text": [
      "Downloading: \"https://download.pytorch.org/models/vgg19-dcbb9e9d.pth\" to C:\\Users\\LENOVO/.cache\\torch\\hub\\checkpoints\\vgg19-dcbb9e9d.pth\n",
      "100%|███████████████████████████████████████| 548M/548M [04:22<00:00, 2.19MB/s]\n"
     ]
    },
    {
     "name": "stdout",
     "output_type": "stream",
     "text": [
      "vgg19 weights saved successfully.\n"
     ]
    }
   ],
   "source": [
    "# Load the pre-trained VGG19 model\n",
    "vgg19 = models.vgg19(weights='VGG19_Weights.DEFAULT')\n",
    "\n",
    "# Step 2: Save the model weights (state_dict) to a file\n",
    "torch.save(vgg19.state_dict(), \"preTrained/vgg19.pth\")\n",
    "\n",
    "print(\"vgg19 weights saved successfully.\")"
   ]
  },
  {
   "cell_type": "code",
   "execution_count": null,
   "id": "867d014b-68d2-49d0-b0b4-d9c1dab4050f",
   "metadata": {},
   "outputs": [],
   "source": [
    "# Load the pre-trained ResNet-50 model\n",
    "ResNet50 = models.resnet50(weights='ResNet50_Weights.DEFAULT')\n",
    "\n",
    "# Specify the file path to save the modelL\n",
    "model_save_path = 'ResNet50_pretrained.pth'\n",
    "\n",
    "# Save the model's state dictionary (recommended approach)\n",
    "torch.save(ResNet50.state_dict(), model_save_path)\n",
    "\n",
    "print(f\"Model saved to {model_save_path}\")\n"
   ]
  }
 ],
 "metadata": {
  "kernelspec": {
   "display_name": "Python 3 (ipykernel)",
   "language": "python",
   "name": "python3"
  },
  "language_info": {
   "codemirror_mode": {
    "name": "ipython",
    "version": 3
   },
   "file_extension": ".py",
   "mimetype": "text/x-python",
   "name": "python",
   "nbconvert_exporter": "python",
   "pygments_lexer": "ipython3",
   "version": "3.12.7"
  }
 },
 "nbformat": 4,
 "nbformat_minor": 5
}
