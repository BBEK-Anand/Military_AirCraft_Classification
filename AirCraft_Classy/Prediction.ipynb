{
 "cells": [
  {
   "cell_type": "code",
   "execution_count": 1,
   "id": "98059955-d4c3-4a23-8267-ac99fb091c32",
   "metadata": {},
   "outputs": [],
   "source": [
    "from PyTorchLabFlow import *\n",
    "import os\n",
    "from torch.utils.data import Dataset\n",
    "from torchvision import transforms\n",
    "from PIL import Image\n",
    "import torch"
   ]
  },
  {
   "cell_type": "code",
   "execution_count": 2,
   "id": "516d560b-fcab-4f31-bbea-ca2e838223dc",
   "metadata": {},
   "outputs": [],
   "source": []
  },
  {
   "cell_type": "code",
   "execution_count": 3,
   "id": "ca9b32d7-4dff-42b6-8b51-9fb2207963dd",
   "metadata": {},
   "outputs": [
    {
     "name": "stdout",
     "output_type": "stream",
     "text": [
      "last epoch updated from 7 to 8 for PipeLine:exp03\n"
     ]
    }
   ],
   "source": [
    "P = re_train(ppl=\"exp03\")"
   ]
  },
  {
   "cell_type": "code",
   "execution_count": null,
   "id": "ac2c574b-7d5f-4c2e-a364-a076ff6a92bc",
   "metadata": {},
   "outputs": [],
   "source": [
    "P.model.load_state_dict(torch.load(P.weights_path,weights_only=True),strict=False)"
   ]
  },
  {
   "cell_type": "code",
   "execution_count": 6,
   "id": "f8cafdcb-c219-445c-a3ef-ec7b3e705be0",
   "metadata": {},
   "outputs": [
    {
     "data": {
      "text/plain": [
       "'internal/Weights/exp03.pth'"
      ]
     },
     "execution_count": 6,
     "metadata": {},
     "output_type": "execute_result"
    }
   ],
   "source": []
  },
  {
   "cell_type": "code",
   "execution_count": 26,
   "id": "edc93d44-8c3e-4fd6-9588-f3a3a088156f",
   "metadata": {},
   "outputs": [
    {
     "name": "stdout",
     "output_type": "stream",
     "text": [
      "Predicted class name: An225\n"
     ]
    }
   ],
   "source": [
    "import torch\n",
    "from PIL import Image\n",
    "from torchvision import transforms\n",
    "import torch.nn.functional as F\n",
    "import os\n",
    "\n",
    "def predict(path, ppl, root_dir):\n",
    "    # Initialize model (assuming you have already loaded your model as P)\n",
    "    P = re_train(ppl=ppl)\n",
    "    model_weights = torch.load(P.weights_path, weights_only=True)\n",
    "    P.model.load_state_dict(model_weights, strict=False)\n",
    "    \n",
    "    # Set model to evaluation mode\n",
    "    P.model.eval()\n",
    "\n",
    "    # Load and preprocess the image\n",
    "    try:\n",
    "        img = Image.open(path).convert(\"RGB\")  # Convert to RGB to ensure consistent color channels\n",
    "    except Exception as e:\n",
    "        print(f\"Error loading image: {e}\")\n",
    "        return None\n",
    "\n",
    "    # Define the default transformations (resize, to tensor, and normalization)\n",
    "    transform = transforms.Compose([\n",
    "            transforms.Resize((224, 224)),  # Resize to 224x224 pixels\n",
    "            transforms.ToTensor(),  # Convert image to tensor\n",
    "            transforms.Normalize(mean=[0.485, 0.456, 0.406], std=[0.229, 0.224, 0.225])  # ImageNet normalization\n",
    "        ])\n",
    "    img_tensor = transform(img).unsqueeze(0)  # Add batch dimension\n",
    "\n",
    "    # Make prediction\n",
    "    with torch.no_grad():  # Disable gradient tracking for inference\n",
    "        pred = F.softmax(P.model(img_tensor), dim=1)\n",
    "\n",
    "    # Get the predicted class index (index of max probability)\n",
    "    pred_class_idx = torch.argmax(pred, dim=1).item()\n",
    "\n",
    "    # Dynamically load class names from the directory (root_dir)\n",
    "    class_names = sorted(os.listdir(root_dir))  # Assuming each subfolder is a class\n",
    "    idx_to_class = {idx: class_name for idx, class_name in enumerate(class_names)}\n",
    "    \n",
    "    # Get the predicted class name using the reverse mapping\n",
    "    pred_class_name = idx_to_class.get(pred_class_idx, \"Unknown Class\")\n",
    "\n",
    "    return pred_class_name, pred\n",
    "\n",
    "\n",
    "# Example usage:\n",
    "root_dir = \"../DataSets/AirCrafts-Copy_vld/\"  # Directory where your classes are stored\n",
    "pred_class, pred = predict(\n",
    "    path=\"../DataSets/AirCrafts-Copy_vld/An225/4eccfd1a2215cc7e221db3529bcacb43_1.jpg\", \n",
    "    ppl=\"exp03\", \n",
    "    root_dir=\"../DataSets/AirCrafts-Copy_vld\"\n",
    ")\n",
    "\n",
    "print(\"Predicted class name:\", pred_class)\n",
    "# print(\"Predicted probabilities:\", pred)\n"
   ]
  },
  {
   "cell_type": "code",
   "execution_count": 1,
   "id": "acb11280-d5bb-4119-8bd5-d63d73c31c53",
   "metadata": {},
   "outputs": [
    {
     "data": {
      "text/plain": [
       "['A10',\n",
       " 'A400M',\n",
       " 'AG600',\n",
       " 'AH64',\n",
       " 'An124',\n",
       " 'An22',\n",
       " 'An225',\n",
       " 'An72',\n",
       " 'AV8B',\n",
       " 'B1',\n",
       " 'B2',\n",
       " 'B21',\n",
       " 'B52',\n",
       " 'Be200',\n",
       " 'C130',\n",
       " 'C17',\n",
       " 'C2',\n",
       " 'C390',\n",
       " 'C5',\n",
       " 'CH47',\n",
       " 'CL415',\n",
       " 'E2',\n",
       " 'E7',\n",
       " 'EF2000',\n",
       " 'F117',\n",
       " 'F14',\n",
       " 'F15',\n",
       " 'F16',\n",
       " 'F18',\n",
       " 'F22',\n",
       " 'F35',\n",
       " 'F4',\n",
       " 'H6',\n",
       " 'J10',\n",
       " 'J20',\n",
       " 'JAS39',\n",
       " 'JF17',\n",
       " 'JH7',\n",
       " 'Ka27',\n",
       " 'Ka52',\n",
       " 'KC135',\n",
       " 'KF21',\n",
       " 'KJ600',\n",
       " 'Mi24',\n",
       " 'Mi26',\n",
       " 'Mi28',\n",
       " 'Mig29',\n",
       " 'Mig31',\n",
       " 'Mirage2000',\n",
       " 'MQ9',\n",
       " 'P3',\n",
       " 'Rafale',\n",
       " 'RQ4',\n",
       " 'SR71',\n",
       " 'Su24',\n",
       " 'Su25',\n",
       " 'Su34',\n",
       " 'Su57',\n",
       " 'TB001',\n",
       " 'TB2',\n",
       " 'Tornado',\n",
       " 'Tu160',\n",
       " 'Tu22M',\n",
       " 'Tu95',\n",
       " 'U2',\n",
       " 'UH60',\n",
       " 'US2',\n",
       " 'V22',\n",
       " 'Vulcan',\n",
       " 'WZ7',\n",
       " 'XB70',\n",
       " 'Y20',\n",
       " 'YF23',\n",
       " 'Z19']"
      ]
     },
     "execution_count": 1,
     "metadata": {},
     "output_type": "execute_result"
    }
   ],
   "source": [
    "import os\n",
    "\n",
    "os.listdir(\"../DataSets/AirCrafts_2/Training/\")"
   ]
  },
  {
   "cell_type": "code",
   "execution_count": 2,
   "id": "06047f28-9dc3-449c-a555-72834ea34cc7",
   "metadata": {},
   "outputs": [
    {
     "data": {
      "text/plain": [
       "74"
      ]
     },
     "execution_count": 2,
     "metadata": {},
     "output_type": "execute_result"
    }
   ],
   "source": [
    "len(['A10',\n",
    " 'A400M',\n",
    " 'AG600',\n",
    " 'AH64',\n",
    " 'An124',\n",
    " 'An22',\n",
    " 'An225',\n",
    " 'An72',\n",
    " 'AV8B',\n",
    " 'B1',\n",
    " 'B2',\n",
    " 'B21',\n",
    " 'B52',\n",
    " 'Be200',\n",
    " 'C130',\n",
    " 'C17',\n",
    " 'C2',\n",
    " 'C390',\n",
    " 'C5',\n",
    " 'CH47',\n",
    " 'CL415',\n",
    " 'E2',\n",
    " 'E7',\n",
    " 'EF2000',\n",
    " 'F117',\n",
    " 'F14',\n",
    " 'F15',\n",
    " 'F16',\n",
    " 'F18',\n",
    " 'F22',\n",
    " 'F35',\n",
    " 'F4',\n",
    " 'H6',\n",
    " 'J10',\n",
    " 'J20',\n",
    " 'JAS39',\n",
    " 'JF17',\n",
    " 'JH7',\n",
    " 'Ka27',\n",
    " 'Ka52',\n",
    " 'KC135',\n",
    " 'KF21',\n",
    " 'KJ600',\n",
    " 'Mi24',\n",
    " 'Mi26',\n",
    " 'Mi28',\n",
    " 'Mig29',\n",
    " 'Mig31',\n",
    " 'Mirage2000',\n",
    " 'MQ9',\n",
    " 'P3',\n",
    " 'Rafale',\n",
    " 'RQ4',\n",
    " 'SR71',\n",
    " 'Su24',\n",
    " 'Su25',\n",
    " 'Su34',\n",
    " 'Su57',\n",
    " 'TB001',\n",
    " 'TB2',\n",
    " 'Tornado',\n",
    " 'Tu160',\n",
    " 'Tu22M',\n",
    " 'Tu95',\n",
    " 'U2',\n",
    " 'UH60',\n",
    " 'US2',\n",
    " 'V22',\n",
    " 'Vulcan',\n",
    " 'WZ7',\n",
    " 'XB70',\n",
    " 'Y20',\n",
    " 'YF23',\n",
    " 'Z19'])"
   ]
  },
  {
   "cell_type": "code",
   "execution_count": null,
   "id": "311faae0-6c2f-4f9a-a1ff-5067fa2d7c1a",
   "metadata": {},
   "outputs": [],
   "source": []
  }
 ],
 "metadata": {
  "kernelspec": {
   "display_name": "Python 3 (ipykernel)",
   "language": "python",
   "name": "python3"
  },
  "language_info": {
   "codemirror_mode": {
    "name": "ipython",
    "version": 3
   },
   "file_extension": ".py",
   "mimetype": "text/x-python",
   "name": "python",
   "nbconvert_exporter": "python",
   "pygments_lexer": "ipython3",
   "version": "3.12.7"
  }
 },
 "nbformat": 4,
 "nbformat_minor": 5
}
