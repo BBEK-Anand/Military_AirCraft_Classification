{
 "cells": [
  {
   "cell_type": "raw",
   "id": "6a262ec0-5127-46d3-99a8-100c7b5c70da",
   "metadata": {},
   "source": [
    "conda activate diat\n",
    "cd D:\\stdML\\DSc\\3rd semi\\Intel Algo\\Mini_Proj\\AirCraft_Classy\n",
    "python -m streamlit run streamlit_web.py"
   ]
  },
  {
   "cell_type": "raw",
   "id": "d06633b1-a04e-4c0a-acaf-1ca3010c62ee",
   "metadata": {},
   "source": [
    "conda activate diat\n",
    "cd D:\\stdML\\DSc\\3rd semi\\Intel Algo\\Mini_Proj\\AirCraft_Classy\n",
    "python -m streamlit run streamlit_web.py"
   ]
  },
  {
   "cell_type": "raw",
   "id": "11ccbc06-cdcb-4710-973f-57630dcd80e4",
   "metadata": {},
   "source": [
    "conda activate diat\n",
    "cd D:\\stdML\\DSc\\3rd semi\\Intel Algo\\Mini_Proj\\AirCraft_Classy\n",
    "python -m streamlit run streamlit_web.py"
   ]
  },
  {
   "cell_type": "raw",
   "id": "852db8a1-f5a8-4198-b392-044cbf3816f1",
   "metadata": {},
   "source": [
    "conda activate diat\n",
    "cd D:\\stdML\\DSc\\3rd semi\\Intel Algo\\Mini_Proj\\AirCraft_Classy\n",
    "python -m streamlit run streamlit_web.py"
   ]
  },
  {
   "cell_type": "raw",
   "id": "4f8d374e-806c-4c2c-949b-d0fd340cfd19",
   "metadata": {},
   "source": [
    "conda activate diat\n",
    "cd D:\\stdML\\DSc\\3rd semi\\Intel Algo\\Mini_Proj\\AirCraft_Classy\n",
    "python -m streamlit run streamlit_web.py"
   ]
  },
  {
   "cell_type": "raw",
   "id": "5bf84895-a48a-4190-a269-23c1798e3903",
   "metadata": {},
   "source": [
    "conda activate diat\n",
    "cd D:\\stdML\\DSc\\3rd semi\\Intel Algo\\Mini_Proj\\AirCraft_Classy\n",
    "python -m streamlit run streamlit_web.py"
   ]
  }
 ],
 "metadata": {
  "kernelspec": {
   "display_name": "Python 3 (ipykernel)",
   "language": "python",
   "name": "python3"
  },
  "language_info": {
   "codemirror_mode": {
    "name": "ipython",
    "version": 3
   },
   "file_extension": ".py",
   "mimetype": "text/x-python",
   "name": "python",
   "nbconvert_exporter": "python",
   "pygments_lexer": "ipython3",
   "version": "3.12.7"
  }
 },
 "nbformat": 4,
 "nbformat_minor": 5
}
