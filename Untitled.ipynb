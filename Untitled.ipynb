{
 "cells": [
  {
   "cell_type": "code",
   "execution_count": 1,
   "id": "b660f356-7dfc-41b1-870a-672b28e06b36",
   "metadata": {},
   "outputs": [],
   "source": [
    "import os\n",
    "import shutil\n"
   ]
  },
  {
   "cell_type": "code",
   "execution_count": 2,
   "id": "7563cf80-62a0-4b0f-a0a9-3475529ffa7d",
   "metadata": {},
   "outputs": [],
   "source": [
    "ls = os.listdir(\"./DataSets/AirCrafts\")\n",
    "# ls"
   ]
  },
  {
   "cell_type": "code",
   "execution_count": 3,
   "id": "059ecf4d-b0cf-401c-a940-86a8b1dbd9f1",
   "metadata": {},
   "outputs": [],
   "source": [
    "src,dist = \"DataSets/AirCrafts/\",\"DataSets/AirCrafts_2/\""
   ]
  },
  {
   "cell_type": "code",
   "execution_count": 4,
   "id": "84dab360-9721-4568-a404-9f1b6d76bd8e",
   "metadata": {},
   "outputs": [],
   "source": [
    "os.mkdir(dist+\"Training\")\n",
    "os.mkdir(dist+\"Test\")"
   ]
  },
  {
   "cell_type": "code",
   "execution_count": 5,
   "id": "ae08023a-1c6c-46b6-adba-6629ccdd5bb8",
   "metadata": {},
   "outputs": [],
   "source": [
    "for i in ls:\n",
    "    os.mkdir(dist+\"Training/\"+i,)\n",
    "    os.mkdir(dist+\"Test/\"+i)"
   ]
  },
  {
   "cell_type": "code",
   "execution_count": 6,
   "id": "86763bbc-337a-480a-9b76-469f92cfcd10",
   "metadata": {},
   "outputs": [
    {
     "name": "stdout",
     "output_type": "stream",
     "text": [
      "0 : A10\n",
      "    552 files coppied from DataSets/AirCrafts/A10 to DataSets/AirCrafts_2/Training\\A10\n",
      "    138 files coppied from DataSets/AirCrafts/A10 to DataSets/AirCrafts_2/Test\\A10\n",
      "1 : A400M\n",
      "    370 files coppied from DataSets/AirCrafts/A400M to DataSets/AirCrafts_2/Training\\A400M\n",
      "    93 files coppied from DataSets/AirCrafts/A400M to DataSets/AirCrafts_2/Test\\A400M\n",
      "2 : AG600\n",
      "    207 files coppied from DataSets/AirCrafts/AG600 to DataSets/AirCrafts_2/Training\\AG600\n",
      "    52 files coppied from DataSets/AirCrafts/AG600 to DataSets/AirCrafts_2/Test\\AG600\n",
      "3 : AH64\n",
      "    300 files coppied from DataSets/AirCrafts/AH64 to DataSets/AirCrafts_2/Training\\AH64\n",
      "    76 files coppied from DataSets/AirCrafts/AH64 to DataSets/AirCrafts_2/Test\\AH64\n",
      "4 : An124\n",
      "    116 files coppied from DataSets/AirCrafts/An124 to DataSets/AirCrafts_2/Training\\An124\n",
      "    29 files coppied from DataSets/AirCrafts/An124 to DataSets/AirCrafts_2/Test\\An124\n",
      "5 : An22\n",
      "    72 files coppied from DataSets/AirCrafts/An22 to DataSets/AirCrafts_2/Training\\An22\n",
      "    19 files coppied from DataSets/AirCrafts/An22 to DataSets/AirCrafts_2/Test\\An22\n",
      "6 : An225\n",
      "    65 files coppied from DataSets/AirCrafts/An225 to DataSets/AirCrafts_2/Training\\An225\n",
      "    17 files coppied from DataSets/AirCrafts/An225 to DataSets/AirCrafts_2/Test\\An225\n",
      "7 : An72\n",
      "    137 files coppied from DataSets/AirCrafts/An72 to DataSets/AirCrafts_2/Training\\An72\n",
      "    35 files coppied from DataSets/AirCrafts/An72 to DataSets/AirCrafts_2/Test\\An72\n",
      "8 : AV8B\n",
      "    347 files coppied from DataSets/AirCrafts/AV8B to DataSets/AirCrafts_2/Training\\AV8B\n",
      "    87 files coppied from DataSets/AirCrafts/AV8B to DataSets/AirCrafts_2/Test\\AV8B\n",
      "9 : B1\n",
      "    500 files coppied from DataSets/AirCrafts/B1 to DataSets/AirCrafts_2/Training\\B1\n",
      "    126 files coppied from DataSets/AirCrafts/B1 to DataSets/AirCrafts_2/Test\\B1\n",
      "10 : B2\n",
      "    408 files coppied from DataSets/AirCrafts/B2 to DataSets/AirCrafts_2/Training\\B2\n",
      "    102 files coppied from DataSets/AirCrafts/B2 to DataSets/AirCrafts_2/Test\\B2\n",
      "11 : B21\n",
      "    26 files coppied from DataSets/AirCrafts/B21 to DataSets/AirCrafts_2/Training\\B21\n",
      "    7 files coppied from DataSets/AirCrafts/B21 to DataSets/AirCrafts_2/Test\\B21\n",
      "12 : B52\n",
      "    446 files coppied from DataSets/AirCrafts/B52 to DataSets/AirCrafts_2/Training\\B52\n",
      "    112 files coppied from DataSets/AirCrafts/B52 to DataSets/AirCrafts_2/Test\\B52\n",
      "13 : Be200\n",
      "    228 files coppied from DataSets/AirCrafts/Be200 to DataSets/AirCrafts_2/Training\\Be200\n",
      "    57 files coppied from DataSets/AirCrafts/Be200 to DataSets/AirCrafts_2/Test\\Be200\n",
      "14 : C130\n",
      "    1034 files coppied from DataSets/AirCrafts/C130 to DataSets/AirCrafts_2/Training\\C130\n",
      "    259 files coppied from DataSets/AirCrafts/C130 to DataSets/AirCrafts_2/Test\\C130\n",
      "15 : C17\n",
      "    528 files coppied from DataSets/AirCrafts/C17 to DataSets/AirCrafts_2/Training\\C17\n",
      "    132 files coppied from DataSets/AirCrafts/C17 to DataSets/AirCrafts_2/Test\\C17\n",
      "16 : C2\n",
      "    650 files coppied from DataSets/AirCrafts/C2 to DataSets/AirCrafts_2/Training\\C2\n",
      "    163 files coppied from DataSets/AirCrafts/C2 to DataSets/AirCrafts_2/Test\\C2\n",
      "17 : C390\n",
      "    113 files coppied from DataSets/AirCrafts/C390 to DataSets/AirCrafts_2/Training\\C390\n",
      "    29 files coppied from DataSets/AirCrafts/C390 to DataSets/AirCrafts_2/Test\\C390\n",
      "18 : C5\n",
      "    309 files coppied from DataSets/AirCrafts/C5 to DataSets/AirCrafts_2/Training\\C5\n",
      "    78 files coppied from DataSets/AirCrafts/C5 to DataSets/AirCrafts_2/Test\\C5\n",
      "19 : CH47\n",
      "    186 files coppied from DataSets/AirCrafts/CH47 to DataSets/AirCrafts_2/Training\\CH47\n",
      "    47 files coppied from DataSets/AirCrafts/CH47 to DataSets/AirCrafts_2/Test\\CH47\n",
      "20 : CL415\n",
      "    210 files coppied from DataSets/AirCrafts/CL415 to DataSets/AirCrafts_2/Training\\CL415\n",
      "    53 files coppied from DataSets/AirCrafts/CL415 to DataSets/AirCrafts_2/Test\\CL415\n",
      "21 : E2\n",
      "    358 files coppied from DataSets/AirCrafts/E2 to DataSets/AirCrafts_2/Training\\E2\n",
      "    90 files coppied from DataSets/AirCrafts/E2 to DataSets/AirCrafts_2/Test\\E2\n",
      "22 : E7\n",
      "    164 files coppied from DataSets/AirCrafts/E7 to DataSets/AirCrafts_2/Training\\E7\n",
      "    41 files coppied from DataSets/AirCrafts/E7 to DataSets/AirCrafts_2/Test\\E7\n",
      "23 : EF2000\n",
      "    605 files coppied from DataSets/AirCrafts/EF2000 to DataSets/AirCrafts_2/Training\\EF2000\n",
      "    152 files coppied from DataSets/AirCrafts/EF2000 to DataSets/AirCrafts_2/Test\\EF2000\n",
      "24 : F117\n",
      "    286 files coppied from DataSets/AirCrafts/F117 to DataSets/AirCrafts_2/Training\\F117\n",
      "    72 files coppied from DataSets/AirCrafts/F117 to DataSets/AirCrafts_2/Test\\F117\n",
      "25 : F14\n",
      "    407 files coppied from DataSets/AirCrafts/F14 to DataSets/AirCrafts_2/Training\\F14\n",
      "    102 files coppied from DataSets/AirCrafts/F14 to DataSets/AirCrafts_2/Test\\F14\n",
      "26 : F15\n",
      "    1152 files coppied from DataSets/AirCrafts/F15 to DataSets/AirCrafts_2/Training\\F15\n",
      "    288 files coppied from DataSets/AirCrafts/F15 to DataSets/AirCrafts_2/Test\\F15\n",
      "27 : F16\n",
      "    1354 files coppied from DataSets/AirCrafts/F16 to DataSets/AirCrafts_2/Training\\F16\n",
      "    339 files coppied from DataSets/AirCrafts/F16 to DataSets/AirCrafts_2/Test\\F16\n",
      "28 : F18\n",
      "    1251 files coppied from DataSets/AirCrafts/F18 to DataSets/AirCrafts_2/Training\\F18\n",
      "    313 files coppied from DataSets/AirCrafts/F18 to DataSets/AirCrafts_2/Test\\F18\n",
      "29 : F22\n",
      "    518 files coppied from DataSets/AirCrafts/F22 to DataSets/AirCrafts_2/Training\\F22\n",
      "    130 files coppied from DataSets/AirCrafts/F22 to DataSets/AirCrafts_2/Test\\F22\n",
      "30 : F35\n",
      "    1048 files coppied from DataSets/AirCrafts/F35 to DataSets/AirCrafts_2/Training\\F35\n",
      "    263 files coppied from DataSets/AirCrafts/F35 to DataSets/AirCrafts_2/Test\\F35\n",
      "31 : F4\n",
      "    535 files coppied from DataSets/AirCrafts/F4 to DataSets/AirCrafts_2/Training\\F4\n",
      "    134 files coppied from DataSets/AirCrafts/F4 to DataSets/AirCrafts_2/Test\\F4\n",
      "32 : H6\n",
      "    313 files coppied from DataSets/AirCrafts/H6 to DataSets/AirCrafts_2/Training\\H6\n",
      "    79 files coppied from DataSets/AirCrafts/H6 to DataSets/AirCrafts_2/Test\\H6\n",
      "33 : J10\n",
      "    518 files coppied from DataSets/AirCrafts/J10 to DataSets/AirCrafts_2/Training\\J10\n",
      "    130 files coppied from DataSets/AirCrafts/J10 to DataSets/AirCrafts_2/Test\\J10\n",
      "34 : J20\n",
      "    565 files coppied from DataSets/AirCrafts/J20 to DataSets/AirCrafts_2/Training\\J20\n",
      "    142 files coppied from DataSets/AirCrafts/J20 to DataSets/AirCrafts_2/Test\\J20\n",
      "35 : JAS39\n",
      "    450 files coppied from DataSets/AirCrafts/JAS39 to DataSets/AirCrafts_2/Training\\JAS39\n",
      "    113 files coppied from DataSets/AirCrafts/JAS39 to DataSets/AirCrafts_2/Test\\JAS39\n",
      "36 : JF17\n",
      "    170 files coppied from DataSets/AirCrafts/JF17 to DataSets/AirCrafts_2/Training\\JF17\n",
      "    43 files coppied from DataSets/AirCrafts/JF17 to DataSets/AirCrafts_2/Test\\JF17\n",
      "37 : JH7\n",
      "    213 files coppied from DataSets/AirCrafts/JH7 to DataSets/AirCrafts_2/Training\\JH7\n",
      "    54 files coppied from DataSets/AirCrafts/JH7 to DataSets/AirCrafts_2/Test\\JH7\n",
      "38 : Ka27\n",
      "    66 files coppied from DataSets/AirCrafts/Ka27 to DataSets/AirCrafts_2/Training\\Ka27\n",
      "    17 files coppied from DataSets/AirCrafts/Ka27 to DataSets/AirCrafts_2/Test\\Ka27\n",
      "39 : Ka52\n",
      "    142 files coppied from DataSets/AirCrafts/Ka52 to DataSets/AirCrafts_2/Training\\Ka52\n",
      "    36 files coppied from DataSets/AirCrafts/Ka52 to DataSets/AirCrafts_2/Test\\Ka52\n",
      "40 : KC135\n",
      "    275 files coppied from DataSets/AirCrafts/KC135 to DataSets/AirCrafts_2/Training\\KC135\n",
      "    69 files coppied from DataSets/AirCrafts/KC135 to DataSets/AirCrafts_2/Test\\KC135\n",
      "41 : KF21\n",
      "    85 files coppied from DataSets/AirCrafts/KF21 to DataSets/AirCrafts_2/Training\\KF21\n",
      "    22 files coppied from DataSets/AirCrafts/KF21 to DataSets/AirCrafts_2/Test\\KF21\n",
      "42 : KJ600\n",
      "    37 files coppied from DataSets/AirCrafts/KJ600 to DataSets/AirCrafts_2/Training\\KJ600\n",
      "    10 files coppied from DataSets/AirCrafts/KJ600 to DataSets/AirCrafts_2/Test\\KJ600\n",
      "43 : Mi24\n",
      "    177 files coppied from DataSets/AirCrafts/Mi24 to DataSets/AirCrafts_2/Training\\Mi24\n",
      "    45 files coppied from DataSets/AirCrafts/Mi24 to DataSets/AirCrafts_2/Test\\Mi24\n",
      "44 : Mi26\n",
      "    36 files coppied from DataSets/AirCrafts/Mi26 to DataSets/AirCrafts_2/Training\\Mi26\n",
      "    10 files coppied from DataSets/AirCrafts/Mi26 to DataSets/AirCrafts_2/Test\\Mi26\n",
      "45 : Mi28\n",
      "    102 files coppied from DataSets/AirCrafts/Mi28 to DataSets/AirCrafts_2/Training\\Mi28\n",
      "    26 files coppied from DataSets/AirCrafts/Mi28 to DataSets/AirCrafts_2/Test\\Mi28\n",
      "46 : Mig29\n",
      "    203 files coppied from DataSets/AirCrafts/Mig29 to DataSets/AirCrafts_2/Training\\Mig29\n",
      "    51 files coppied from DataSets/AirCrafts/Mig29 to DataSets/AirCrafts_2/Test\\Mig29\n",
      "47 : Mig31\n",
      "    363 files coppied from DataSets/AirCrafts/Mig31 to DataSets/AirCrafts_2/Training\\Mig31\n",
      "    91 files coppied from DataSets/AirCrafts/Mig31 to DataSets/AirCrafts_2/Test\\Mig31\n",
      "48 : Mirage2000\n",
      "    352 files coppied from DataSets/AirCrafts/Mirage2000 to DataSets/AirCrafts_2/Training\\Mirage2000\n",
      "    89 files coppied from DataSets/AirCrafts/Mirage2000 to DataSets/AirCrafts_2/Test\\Mirage2000\n",
      "49 : MQ9\n",
      "    285 files coppied from DataSets/AirCrafts/MQ9 to DataSets/AirCrafts_2/Training\\MQ9\n",
      "    72 files coppied from DataSets/AirCrafts/MQ9 to DataSets/AirCrafts_2/Test\\MQ9\n",
      "50 : P3\n",
      "    376 files coppied from DataSets/AirCrafts/P3 to DataSets/AirCrafts_2/Training\\P3\n",
      "    95 files coppied from DataSets/AirCrafts/P3 to DataSets/AirCrafts_2/Test\\P3\n",
      "51 : Rafale\n",
      "    524 files coppied from DataSets/AirCrafts/Rafale to DataSets/AirCrafts_2/Training\\Rafale\n",
      "    132 files coppied from DataSets/AirCrafts/Rafale to DataSets/AirCrafts_2/Test\\Rafale\n",
      "52 : RQ4\n",
      "    236 files coppied from DataSets/AirCrafts/RQ4 to DataSets/AirCrafts_2/Training\\RQ4\n",
      "    59 files coppied from DataSets/AirCrafts/RQ4 to DataSets/AirCrafts_2/Test\\RQ4\n",
      "53 : SR71\n",
      "    212 files coppied from DataSets/AirCrafts/SR71 to DataSets/AirCrafts_2/Training\\SR71\n",
      "    53 files coppied from DataSets/AirCrafts/SR71 to DataSets/AirCrafts_2/Test\\SR71\n",
      "54 : Su24\n",
      "    344 files coppied from DataSets/AirCrafts/Su24 to DataSets/AirCrafts_2/Training\\Su24\n",
      "    87 files coppied from DataSets/AirCrafts/Su24 to DataSets/AirCrafts_2/Test\\Su24\n",
      "55 : Su25\n",
      "    315 files coppied from DataSets/AirCrafts/Su25 to DataSets/AirCrafts_2/Training\\Su25\n",
      "    79 files coppied from DataSets/AirCrafts/Su25 to DataSets/AirCrafts_2/Test\\Su25\n",
      "56 : Su34\n",
      "    369 files coppied from DataSets/AirCrafts/Su34 to DataSets/AirCrafts_2/Training\\Su34\n",
      "    93 files coppied from DataSets/AirCrafts/Su34 to DataSets/AirCrafts_2/Test\\Su34\n",
      "57 : Su57\n",
      "    288 files coppied from DataSets/AirCrafts/Su57 to DataSets/AirCrafts_2/Training\\Su57\n",
      "    73 files coppied from DataSets/AirCrafts/Su57 to DataSets/AirCrafts_2/Test\\Su57\n",
      "58 : TB001\n",
      "    64 files coppied from DataSets/AirCrafts/TB001 to DataSets/AirCrafts_2/Training\\TB001\n",
      "    17 files coppied from DataSets/AirCrafts/TB001 to DataSets/AirCrafts_2/Test\\TB001\n",
      "59 : TB2\n",
      "    328 files coppied from DataSets/AirCrafts/TB2 to DataSets/AirCrafts_2/Training\\TB2\n",
      "    83 files coppied from DataSets/AirCrafts/TB2 to DataSets/AirCrafts_2/Test\\TB2\n",
      "60 : Tornado\n",
      "    367 files coppied from DataSets/AirCrafts/Tornado to DataSets/AirCrafts_2/Training\\Tornado\n",
      "    92 files coppied from DataSets/AirCrafts/Tornado to DataSets/AirCrafts_2/Test\\Tornado\n",
      "61 : Tu160\n",
      "    296 files coppied from DataSets/AirCrafts/Tu160 to DataSets/AirCrafts_2/Training\\Tu160\n",
      "    74 files coppied from DataSets/AirCrafts/Tu160 to DataSets/AirCrafts_2/Test\\Tu160\n",
      "62 : Tu22M\n",
      "    266 files coppied from DataSets/AirCrafts/Tu22M to DataSets/AirCrafts_2/Training\\Tu22M\n",
      "    67 files coppied from DataSets/AirCrafts/Tu22M to DataSets/AirCrafts_2/Test\\Tu22M\n",
      "63 : Tu95\n",
      "    282 files coppied from DataSets/AirCrafts/Tu95 to DataSets/AirCrafts_2/Training\\Tu95\n",
      "    71 files coppied from DataSets/AirCrafts/Tu95 to DataSets/AirCrafts_2/Test\\Tu95\n",
      "64 : U2\n",
      "    245 files coppied from DataSets/AirCrafts/U2 to DataSets/AirCrafts_2/Training\\U2\n",
      "    62 files coppied from DataSets/AirCrafts/U2 to DataSets/AirCrafts_2/Test\\U2\n",
      "65 : UH60\n",
      "    143 files coppied from DataSets/AirCrafts/UH60 to DataSets/AirCrafts_2/Training\\UH60\n",
      "    36 files coppied from DataSets/AirCrafts/UH60 to DataSets/AirCrafts_2/Test\\UH60\n",
      "66 : US2\n",
      "    502 files coppied from DataSets/AirCrafts/US2 to DataSets/AirCrafts_2/Training\\US2\n",
      "    126 files coppied from DataSets/AirCrafts/US2 to DataSets/AirCrafts_2/Test\\US2\n",
      "67 : V22\n",
      "    664 files coppied from DataSets/AirCrafts/V22 to DataSets/AirCrafts_2/Training\\V22\n",
      "    167 files coppied from DataSets/AirCrafts/V22 to DataSets/AirCrafts_2/Test\\V22\n",
      "68 : Vulcan\n",
      "    314 files coppied from DataSets/AirCrafts/Vulcan to DataSets/AirCrafts_2/Training\\Vulcan\n",
      "    79 files coppied from DataSets/AirCrafts/Vulcan to DataSets/AirCrafts_2/Test\\Vulcan\n",
      "69 : WZ7\n",
      "    76 files coppied from DataSets/AirCrafts/WZ7 to DataSets/AirCrafts_2/Training\\WZ7\n",
      "    19 files coppied from DataSets/AirCrafts/WZ7 to DataSets/AirCrafts_2/Test\\WZ7\n",
      "70 : XB70\n",
      "    137 files coppied from DataSets/AirCrafts/XB70 to DataSets/AirCrafts_2/Training\\XB70\n",
      "    35 files coppied from DataSets/AirCrafts/XB70 to DataSets/AirCrafts_2/Test\\XB70\n",
      "71 : Y20\n",
      "    157 files coppied from DataSets/AirCrafts/Y20 to DataSets/AirCrafts_2/Training\\Y20\n",
      "    40 files coppied from DataSets/AirCrafts/Y20 to DataSets/AirCrafts_2/Test\\Y20\n",
      "72 : YF23\n",
      "    108 files coppied from DataSets/AirCrafts/YF23 to DataSets/AirCrafts_2/Training\\YF23\n",
      "    28 files coppied from DataSets/AirCrafts/YF23 to DataSets/AirCrafts_2/Test\\YF23\n",
      "73 : Z19\n",
      "    55 files coppied from DataSets/AirCrafts/Z19 to DataSets/AirCrafts_2/Training\\Z19\n",
      "    14 files coppied from DataSets/AirCrafts/Z19 to DataSets/AirCrafts_2/Test\\Z19\n"
     ]
    }
   ],
   "source": [
    "for i in ls:\n",
    "    files = os.listdir(src+i)\n",
    "    sp = int(len(files)*0.8)\n",
    "    train,test = files[:sp], files[sp:]\n",
    "    print(f\"{ls.index(i)} : {i}\")\n",
    "    for j in train:\n",
    "        shutil.copy2(src=os.path.join(src,i,j),dst=os.path.join(dist,\"Training\",i,j))\n",
    "    print(f\"    {len(train)} files coppied from {os.path.join(src,i)} to {os.path.join(dist,\"Training\",i) }\")\n",
    "    for j in test:\n",
    "        shutil.copy2(src=os.path.join(src,i,j),dst=os.path.join(dist,\"Test\",i,j))\n",
    "    print(f\"    {len(test)} files coppied from {os.path.join(src,i)} to {os.path.join(dist,\"Test\",i) }\")"
   ]
  },
  {
   "cell_type": "code",
   "execution_count": null,
   "id": "125b6c15-3e8d-4086-96a1-e4ac6d390396",
   "metadata": {},
   "outputs": [],
   "source": []
  },
  {
   "cell_type": "code",
   "execution_count": null,
   "id": "413e7842-e5e8-4715-a9db-ffbb1c869894",
   "metadata": {},
   "outputs": [],
   "source": []
  },
  {
   "cell_type": "code",
   "execution_count": 7,
   "id": "77bbcf82-a916-47a6-9ac0-c31ad8ce786e",
   "metadata": {},
   "outputs": [],
   "source": [
    "for i in ls:\n",
    "    fls = random.choices(os.listdir(src+i),k=10)\n",
    "    for j in fls:\n",
    "        shutil.copy2(src=os.path.join(src,i,j),dst=os.path.join(dist,i,j))"
   ]
  },
  {
   "cell_type": "code",
   "execution_count": null,
   "id": "bb5dc446-88bb-40f2-83c9-891f587bf552",
   "metadata": {},
   "outputs": [],
   "source": []
  },
  {
   "cell_type": "code",
   "execution_count": null,
   "id": "8b388792-3dfe-4405-b70d-d2db4498959c",
   "metadata": {},
   "outputs": [],
   "source": []
  },
  {
   "cell_type": "code",
   "execution_count": 8,
   "id": "b9a05c75-74ef-423c-aa08-d3ba7166a7f7",
   "metadata": {},
   "outputs": [],
   "source": [
    "import tqdm"
   ]
  },
  {
   "cell_type": "code",
   "execution_count": 16,
   "id": "893a30bf-45b9-4e76-b85b-8a61aa922c36",
   "metadata": {},
   "outputs": [
    {
     "name": "stderr",
     "output_type": "stream",
     "text": [
      "  0%|                | 32171920/1000000000000 [00:11<102:01:13, 2722676.07it/s]\n"
     ]
    },
    {
     "ename": "KeyboardInterrupt",
     "evalue": "",
     "output_type": "error",
     "traceback": [
      "\u001b[1;31m---------------------------------------------------------------------------\u001b[0m",
      "\u001b[1;31mKeyboardInterrupt\u001b[0m                         Traceback (most recent call last)",
      "Cell \u001b[1;32mIn[16], line 2\u001b[0m\n\u001b[0;32m      1\u001b[0m \u001b[38;5;66;03m# opp = [i for i in range(100**12)]\u001b[39;00m\n\u001b[1;32m----> 2\u001b[0m \u001b[38;5;28;01mfor\u001b[39;00m i \u001b[38;5;129;01min\u001b[39;00m tqdm\u001b[38;5;241m.\u001b[39mtqdm(\u001b[38;5;28mrange\u001b[39m(\u001b[38;5;28mint\u001b[39m(\u001b[38;5;241m10\u001b[39m\u001b[38;5;241m*\u001b[39m\u001b[38;5;241m*\u001b[39m\u001b[38;5;241m12\u001b[39m))):\n\u001b[0;32m      3\u001b[0m     \u001b[38;5;28;01mpass\u001b[39;00m\n",
      "File \u001b[1;32mD:\\AnnA\\envs\\diat\\Lib\\site-packages\\tqdm\\std.py:1182\u001b[0m, in \u001b[0;36mtqdm.__iter__\u001b[1;34m(self)\u001b[0m\n\u001b[0;32m   1180\u001b[0m \u001b[38;5;28;01mtry\u001b[39;00m:\n\u001b[0;32m   1181\u001b[0m     \u001b[38;5;28;01mfor\u001b[39;00m obj \u001b[38;5;129;01min\u001b[39;00m iterable:\n\u001b[1;32m-> 1182\u001b[0m         \u001b[38;5;28;01myield\u001b[39;00m obj\n\u001b[0;32m   1183\u001b[0m         \u001b[38;5;66;03m# Update and possibly print the progressbar.\u001b[39;00m\n\u001b[0;32m   1184\u001b[0m         \u001b[38;5;66;03m# Note: does not call self.update(1) for speed optimisation.\u001b[39;00m\n\u001b[0;32m   1185\u001b[0m         n \u001b[38;5;241m+\u001b[39m\u001b[38;5;241m=\u001b[39m \u001b[38;5;241m1\u001b[39m\n",
      "\u001b[1;31mKeyboardInterrupt\u001b[0m: "
     ]
    }
   ],
   "source": [
    "# opp = [i for i in range(100**12)]\n",
    "for i in tqdm.tqdm(range(int(10**12))):\n",
    "    pass"
   ]
  },
  {
   "cell_type": "code",
   "execution_count": 1,
   "id": "bb8a52b2-122e-463e-8682-6f7c396f2584",
   "metadata": {},
   "outputs": [],
   "source": [
    "import PyTorchLabFlow as ptlf"
   ]
  },
  {
   "cell_type": "code",
   "execution_count": 2,
   "id": "f256990b-d231-4584-be62-43b0f029c1d2",
   "metadata": {},
   "outputs": [
    {
     "ename": "AttributeError",
     "evalue": "module 'PyTorchLabFlow' has no attribute '__version__'",
     "output_type": "error",
     "traceback": [
      "\u001b[1;31m---------------------------------------------------------------------------\u001b[0m",
      "\u001b[1;31mAttributeError\u001b[0m                            Traceback (most recent call last)",
      "Cell \u001b[1;32mIn[2], line 1\u001b[0m\n\u001b[1;32m----> 1\u001b[0m ptlf\u001b[38;5;241m.\u001b[39m__version__\n",
      "\u001b[1;31mAttributeError\u001b[0m: module 'PyTorchLabFlow' has no attribute '__version__'"
     ]
    }
   ],
   "source": [
    "ptlf.__version__"
   ]
  },
  {
   "cell_type": "code",
   "execution_count": 3,
   "id": "754993cf-be88-4ee9-a893-b152d6911911",
   "metadata": {},
   "outputs": [
    {
     "name": "stdout",
     "output_type": "stream",
     "text": [
      "PyTorchLabFlow==0.1.8.6\n",
      "Note: you may need to restart the kernel to use updated packages.\n"
     ]
    }
   ],
   "source": [
    "pip freeze | findstr PyTorchLabFlow"
   ]
  },
  {
   "cell_type": "code",
   "execution_count": null,
   "id": "1f2079a7-087e-44df-9e05-222604be874a",
   "metadata": {},
   "outputs": [],
   "source": [
    "ptlf.setup_project(project_name='AirCraft_Classy')"
   ]
  }
 ],
 "metadata": {
  "kernelspec": {
   "display_name": "Python 3 (ipykernel)",
   "language": "python",
   "name": "python3"
  },
  "language_info": {
   "codemirror_mode": {
    "name": "ipython",
    "version": 3
   },
   "file_extension": ".py",
   "mimetype": "text/x-python",
   "name": "python",
   "nbconvert_exporter": "python",
   "pygments_lexer": "ipython3",
   "version": "3.12.7"
  }
 },
 "nbformat": 4,
 "nbformat_minor": 5
}
