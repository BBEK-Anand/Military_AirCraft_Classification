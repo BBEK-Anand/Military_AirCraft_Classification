{
 "cells": [
  {
   "cell_type": "code",
   "execution_count": 1,
   "id": "b1ee30a4-819f-4422-a2f8-83d504df786f",
   "metadata": {},
   "outputs": [],
   "source": [
    "import sys\n",
    "sys.path.append(\"/mnt/work/GitDesk/GitLink/PyTorchLabFlow/src\")\n",
    "from PTLF.lab import lab_setup\n",
    "lab_setup(settings_path='./ProjDir/MilitaryAircraftClassification/MilitaryAircraftClassification.json')\n",
    "del lab_setup"
   ]
  },
  {
   "cell_type": "code",
   "execution_count": 2,
   "id": "227c8d27-a814-4709-93ea-2d90a287b92d",
   "metadata": {},
   "outputs": [],
   "source": [
    "from PTLF.experiment import PipeLine, get_ppls"
   ]
  },
  {
   "cell_type": "code",
   "execution_count": 3,
   "id": "8326662c-d6c1-43cb-9c9a-a2cffb1c573c",
   "metadata": {},
   "outputs": [
    {
     "data": {
      "text/plain": [
       "['trl01', 'trl02', 'trl03', 'trl04']"
      ]
     },
     "execution_count": 3,
     "metadata": {},
     "output_type": "execute_result"
    }
   ],
   "source": [
    "get_ppls()"
   ]
  },
  {
   "cell_type": "code",
   "execution_count": 4,
   "id": "479ddc8f-45f0-4986-9a27-15954bc4e290",
   "metadata": {},
   "outputs": [],
   "source": [
    "P = PipeLine(pplid='trl02')"
   ]
  },
  {
   "cell_type": "code",
   "execution_count": 5,
   "id": "45a33d0f-1fc1-4b93-800d-61f46b08e5e5",
   "metadata": {},
   "outputs": [],
   "source": [
    "import warnings\n",
    "warnings.filterwarnings(\"ignore\")"
   ]
  },
  {
   "cell_type": "code",
   "execution_count": 6,
   "id": "11bb454d-e40e-4867-b2ab-46e9c78497e0",
   "metadata": {},
   "outputs": [
    {
     "name": "stdout",
     "output_type": "stream",
     "text": [
      "Data loaders are successfully created\n"
     ]
    }
   ],
   "source": [
    "P.prepare()"
   ]
  },
  {
   "cell_type": "code",
   "execution_count": null,
   "id": "84084a38-1022-4749-9aea-607ac9f23adc",
   "metadata": {},
   "outputs": [
    {
     "name": "stderr",
     "output_type": "stream",
     "text": [
      "Epoch 6: 100%|████████████████████████████████| 797/797 [14:09<00:00,  1.07s/it]\n",
      "Epoch 6: 100%|████████████████████████████████| 201/201 [03:42<00:00,  1.11s/it]\n",
      "Epoch 7: 100%|████████████████████████████████| 797/797 [13:49<00:00,  1.04s/it]\n",
      "Epoch 7: 100%|████████████████████████████████| 201/201 [04:44<00:00,  1.41s/it]\n"
     ]
    },
    {
     "name": "stdout",
     "output_type": "stream",
     "text": [
      "Best Model Weights Updated: Epoch 7 - Val Loss: 1.1791713024253276\n"
     ]
    },
    {
     "name": "stderr",
     "output_type": "stream",
     "text": [
      "Epoch 8:   7%|██▎                              | 56/797 [01:00<13:07,  1.06s/it]"
     ]
    }
   ],
   "source": [
    "P.train(num_epochs=10,verbose=[])"
   ]
  },
  {
   "cell_type": "code",
   "execution_count": null,
   "id": "12cb68e1-b19b-4220-b65b-b32da8590467",
   "metadata": {},
   "outputs": [],
   "source": []
  },
  {
   "cell_type": "code",
   "execution_count": null,
   "id": "172bdde5-25ad-4c60-bf13-ee1a2506b1d9",
   "metadata": {},
   "outputs": [],
   "source": []
  },
  {
   "cell_type": "code",
   "execution_count": null,
   "id": "32d6356e-286d-4a90-b33b-9e22b2b6215d",
   "metadata": {},
   "outputs": [],
   "source": []
  },
  {
   "cell_type": "code",
   "execution_count": null,
   "id": "2962387f-a7d7-42dd-b06c-56e338342ce7",
   "metadata": {},
   "outputs": [],
   "source": []
  },
  {
   "cell_type": "code",
   "execution_count": null,
   "id": "3fb90e7e-dd2a-4e94-a3eb-40fdbaf04c9c",
   "metadata": {},
   "outputs": [],
   "source": []
  },
  {
   "cell_type": "code",
   "execution_count": null,
   "id": "af4f679b-fe68-480f-975b-b75c1b6dd46b",
   "metadata": {},
   "outputs": [],
   "source": []
  },
  {
   "cell_type": "code",
   "execution_count": null,
   "id": "973d0972-77d3-4efc-97b3-3eb23eccaa18",
   "metadata": {},
   "outputs": [],
   "source": []
  },
  {
   "cell_type": "code",
   "execution_count": null,
   "id": "a43219cb-d28f-4e2c-892f-004f7aada983",
   "metadata": {},
   "outputs": [],
   "source": []
  }
 ],
 "metadata": {
  "kernelspec": {
   "display_name": "Python 3 (ipykernel)",
   "language": "python",
   "name": "python3"
  },
  "language_info": {
   "codemirror_mode": {
    "name": "ipython",
    "version": 3
   },
   "file_extension": ".py",
   "mimetype": "text/x-python",
   "name": "python",
   "nbconvert_exporter": "python",
   "pygments_lexer": "ipython3",
   "version": "3.10.18"
  }
 },
 "nbformat": 4,
 "nbformat_minor": 5
}
