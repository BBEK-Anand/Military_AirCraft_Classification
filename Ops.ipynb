{
 "cells": [
  {
   "cell_type": "code",
   "execution_count": null,
   "id": "b1ee30a4-819f-4422-a2f8-83d504df786f",
   "metadata": {},
   "outputs": [],
   "source": [
    "from PTLF.lab import lab_setup\n",
    "lab_setup(settings_path='./ProjDir/MilitaryAircraftClassification/MilitaryAircraftClassification.json')\n",
    "del lab_setup"
   ]
  },
  {
   "cell_type": "code",
   "execution_count": 2,
   "id": "227c8d27-a814-4709-93ea-2d90a287b92d",
   "metadata": {},
   "outputs": [],
   "source": [
    "from PTLF.experiment import PipeLine, Db, get_ppls"
   ]
  },
  {
   "cell_type": "code",
   "execution_count": 3,
   "id": "479ddc8f-45f0-4986-9a27-15954bc4e290",
   "metadata": {},
   "outputs": [],
   "source": [
    "P = PipeLine()"
   ]
  },
  {
   "cell_type": "code",
   "execution_count": 4,
   "id": "68324161-e5ab-4c5a-af6d-28230e99daa2",
   "metadata": {},
   "outputs": [
    {
     "data": {
      "text/plain": [
       "{'project_name': 'MilitaryAircraftClassification',\n",
       " 'project_dir': '/mnt/work/stdML/PTLF/MAcC/ProjDir',\n",
       " 'component_dir': '/mnt/work/stdML/PTLF/MAcC/MyCompDir',\n",
       " 'metrics': ['accuracy', 'auroc', 'f1score', 'auprc'],\n",
       " 'strategy': {'monitor': 'val_loss', 'mode': 'min'},\n",
       " 'data_path': '/mnt/work/stdML/PTLF/MAcC/ProjDir/MilitaryAircraftClassification',\n",
       " 'setting_path': '/mnt/work/stdML/PTLF/MAcC/ProjDir/MilitaryAircraftClassification/MilitaryAircraftClassification.json',\n",
       " 'logid': 'log60'}"
      ]
     },
     "execution_count": 4,
     "metadata": {},
     "output_type": "execute_result"
    }
   ],
   "source": [
    "P.settings"
   ]
  },
  {
   "cell_type": "code",
   "execution_count": 5,
   "id": "8326662c-d6c1-43cb-9c9a-a2cffb1c573c",
   "metadata": {},
   "outputs": [
    {
     "data": {
      "text/plain": [
       "['trl01', 'trl02', 'trl03', 'trl04']"
      ]
     },
     "execution_count": 5,
     "metadata": {},
     "output_type": "execute_result"
    }
   ],
   "source": [
    "get_ppls()"
   ]
  },
  {
   "cell_type": "code",
   "execution_count": 6,
   "id": "84084a38-1022-4749-9aea-607ac9f23adc",
   "metadata": {},
   "outputs": [
    {
     "data": {
      "text/plain": [
       "False"
      ]
     },
     "execution_count": 6,
     "metadata": {},
     "output_type": "execute_result"
    }
   ],
   "source": [
    "P.load(pplid='trl03')\n",
    "P.is_running()"
   ]
  },
  {
   "cell_type": "code",
   "execution_count": 7,
   "id": "12cb68e1-b19b-4220-b65b-b32da8590467",
   "metadata": {},
   "outputs": [
    {
     "name": "stdout",
     "output_type": "stream",
     "text": [
      "it is not running anywhere\n"
     ]
    }
   ],
   "source": [
    "P.stop_running()"
   ]
  },
  {
   "cell_type": "code",
   "execution_count": null,
   "id": "172bdde5-25ad-4c60-bf13-ee1a2506b1d9",
   "metadata": {},
   "outputs": [],
   "source": []
  },
  {
   "cell_type": "code",
   "execution_count": 8,
   "id": "32d6356e-286d-4a90-b33b-9e22b2b6215d",
   "metadata": {},
   "outputs": [],
   "source": [
    "# db = Db(db_path=P.)"
   ]
  },
  {
   "cell_type": "code",
   "execution_count": null,
   "id": "2962387f-a7d7-42dd-b06c-56e338342ce7",
   "metadata": {},
   "outputs": [],
   "source": []
  },
  {
   "cell_type": "code",
   "execution_count": null,
   "id": "3fb90e7e-dd2a-4e94-a3eb-40fdbaf04c9c",
   "metadata": {},
   "outputs": [],
   "source": [
    "# db = Db(db_path=f\"{P.settings['data_path']}/ppls.db\")"
   ]
  },
  {
   "cell_type": "code",
   "execution_count": null,
   "id": "af4f679b-fe68-480f-975b-b75c1b6dd46b",
   "metadata": {},
   "outputs": [
    {
     "data": {
      "text/plain": [
       "<sqlite3.Cursor at 0x7a3f5f390d40>"
      ]
     },
     "execution_count": 10,
     "metadata": {},
     "output_type": "execute_result"
    }
   ],
   "source": [
    "# db.execute(\n",
    "#     \"DELETE FROM ppls WHERE pplid = ?\", ('trl03',)\n",
    "# )"
   ]
  },
  {
   "cell_type": "code",
   "execution_count": null,
   "id": "973d0972-77d3-4efc-97b3-3eb23eccaa18",
   "metadata": {},
   "outputs": [],
   "source": []
  },
  {
   "cell_type": "code",
   "execution_count": null,
   "id": "a43219cb-d28f-4e2c-892f-004f7aada983",
   "metadata": {},
   "outputs": [],
   "source": []
  }
 ],
 "metadata": {
  "kernelspec": {
   "display_name": "Python 3 (ipykernel)",
   "language": "python",
   "name": "python3"
  },
  "language_info": {
   "codemirror_mode": {
    "name": "ipython",
    "version": 3
   },
   "file_extension": ".py",
   "mimetype": "text/x-python",
   "name": "python",
   "nbconvert_exporter": "python",
   "pygments_lexer": "ipython3",
   "version": "3.10.18"
  }
 },
 "nbformat": 4,
 "nbformat_minor": 5
}
