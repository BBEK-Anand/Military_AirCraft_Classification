{
 "cells": [
  {
   "cell_type": "code",
   "execution_count": 1,
   "id": "b1ee30a4-819f-4422-a2f8-83d504df786f",
   "metadata": {},
   "outputs": [],
   "source": [
    "import sys\n",
    "sys.path.append(\"/mnt/work/GitDesk/GitLink/PyTorchLabFlow/src\")\n",
    "from PTLF.lab import create_project"
   ]
  },
  {
   "cell_type": "code",
   "execution_count": 2,
   "id": "c83e0c43-0955-400e-ba29-987a43df90d8",
   "metadata": {},
   "outputs": [],
   "source": [
    "settings = {\n",
    "    \"project_name\": \"MilitaryAircraftClassification\",\n",
    "    \"project_dir\": \"./ProjDir/\",\n",
    "    \"component_dir\": \"./MyCompDir\",\n",
    "    \"metrics\": [\"accuracy\", \"auroc\", \"f1score\", \"auprc\"],\n",
    "    \"strategy\": {\"monitor\": \"val_loss\", \"mode\": \"min\"},\n",
    "}"
   ]
  },
  {
   "cell_type": "code",
   "execution_count": 3,
   "id": "f58624fa-8c62-452c-a28a-24ff14d22c04",
   "metadata": {},
   "outputs": [
    {
     "data": {
      "text/plain": [
       "'/mnt/work/stdML/PTLF/MAcC/ProjDir/MilitaryAircraftClassification/MilitaryAircraftClassification.json'"
      ]
     },
     "execution_count": 3,
     "metadata": {},
     "output_type": "execute_result"
    }
   ],
   "source": [
    "create_project(settings=settings)"
   ]
  },
  {
   "cell_type": "code",
   "execution_count": null,
   "id": "c07785e0-e46f-49fe-bb5c-11eae9858c08",
   "metadata": {},
   "outputs": [],
   "source": []
  }
 ],
 "metadata": {
  "kernelspec": {
   "display_name": "Python 3 (ipykernel)",
   "language": "python",
   "name": "python3"
  },
  "language_info": {
   "codemirror_mode": {
    "name": "ipython",
    "version": 3
   },
   "file_extension": ".py",
   "mimetype": "text/x-python",
   "name": "python",
   "nbconvert_exporter": "python",
   "pygments_lexer": "ipython3",
   "version": "3.10.18"
  }
 },
 "nbformat": 4,
 "nbformat_minor": 5
}
